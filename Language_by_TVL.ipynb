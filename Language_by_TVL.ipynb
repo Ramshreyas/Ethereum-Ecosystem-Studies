{
 "cells": [
  {
   "cell_type": "markdown",
   "metadata": {},
   "source": [
    "# Smart Contract Languages by TVL\n",
    "\n",
    "[![Open In Colab](https://colab.research.google.com/assets/colab-badge.svg)](https://colab.research.google.com/github/Ramshreyas/Ethereum-Ecosystem-Studies/blob/main/Language_by_TVL.ipynb)\n",
    "\n",
    "---   "
   ]
  },
  {
   "cell_type": "markdown",
   "metadata": {},
   "source": [
    "### Imports & Setup"
   ]
  },
  {
   "cell_type": "code",
   "execution_count": 1,
   "metadata": {},
   "outputs": [
    {
     "name": "stdout",
     "output_type": "stream",
     "text": [
      "Requirement already satisfied: pandas in ./.conda/lib/python3.11/site-packages (2.2.3)\n",
      "Requirement already satisfied: requests in ./.conda/lib/python3.11/site-packages (2.32.3)\n",
      "Requirement already satisfied: matplotlib in ./.conda/lib/python3.11/site-packages (3.9.2)\n",
      "Requirement already satisfied: seaborn in ./.conda/lib/python3.11/site-packages (0.13.2)\n",
      "Requirement already satisfied: numpy>=1.23.2 in ./.conda/lib/python3.11/site-packages (from pandas) (2.1.3)\n",
      "Requirement already satisfied: python-dateutil>=2.8.2 in ./.conda/lib/python3.11/site-packages (from pandas) (2.9.0.post0)\n",
      "Requirement already satisfied: pytz>=2020.1 in ./.conda/lib/python3.11/site-packages (from pandas) (2024.2)\n",
      "Requirement already satisfied: tzdata>=2022.7 in ./.conda/lib/python3.11/site-packages (from pandas) (2024.2)\n",
      "Requirement already satisfied: charset-normalizer<4,>=2 in ./.conda/lib/python3.11/site-packages (from requests) (3.4.0)\n",
      "Requirement already satisfied: idna<4,>=2.5 in ./.conda/lib/python3.11/site-packages (from requests) (3.10)\n",
      "Requirement already satisfied: urllib3<3,>=1.21.1 in ./.conda/lib/python3.11/site-packages (from requests) (2.2.3)\n",
      "Requirement already satisfied: certifi>=2017.4.17 in ./.conda/lib/python3.11/site-packages (from requests) (2024.8.30)\n",
      "Requirement already satisfied: contourpy>=1.0.1 in ./.conda/lib/python3.11/site-packages (from matplotlib) (1.3.1)\n",
      "Requirement already satisfied: cycler>=0.10 in ./.conda/lib/python3.11/site-packages (from matplotlib) (0.12.1)\n",
      "Requirement already satisfied: fonttools>=4.22.0 in ./.conda/lib/python3.11/site-packages (from matplotlib) (4.55.0)\n",
      "Requirement already satisfied: kiwisolver>=1.3.1 in ./.conda/lib/python3.11/site-packages (from matplotlib) (1.4.7)\n",
      "Requirement already satisfied: packaging>=20.0 in ./.conda/lib/python3.11/site-packages (from matplotlib) (24.2)\n",
      "Requirement already satisfied: pillow>=8 in ./.conda/lib/python3.11/site-packages (from matplotlib) (11.0.0)\n",
      "Requirement already satisfied: pyparsing>=2.3.1 in ./.conda/lib/python3.11/site-packages (from matplotlib) (3.2.0)\n",
      "Requirement already satisfied: six>=1.5 in ./.conda/lib/python3.11/site-packages (from python-dateutil>=2.8.2->pandas) (1.16.0)\n",
      "Note: you may need to restart the kernel to use updated packages.\n"
     ]
    }
   ],
   "source": [
    "%pip install pandas requests matplotlib seaborn"
   ]
  },
  {
   "cell_type": "code",
   "execution_count": 2,
   "metadata": {},
   "outputs": [],
   "source": [
    "import requests\n",
    "import pandas as pd\n",
    "import matplotlib.pyplot as plt\n",
    "import seaborn as sns\n",
    "import time\n",
    "import re"
   ]
  },
  {
   "cell_type": "code",
   "execution_count": 3,
   "metadata": {},
   "outputs": [],
   "source": [
    "# Hide warnings\n",
    "import warnings\n",
    "warnings.filterwarnings('ignore')"
   ]
  },
  {
   "cell_type": "markdown",
   "metadata": {},
   "source": [
    "---\n",
    "\n",
    "### Functions\n",
    "\n",
    "DefiLlama\n",
    "\n",
    "\n"
   ]
  },
  {
   "cell_type": "code",
   "execution_count": 4,
   "metadata": {},
   "outputs": [],
   "source": [
    "def fetch_defillama_protocols():\n",
    "    \"\"\"\n",
    "    Fetches the list of protocols from DeFiLlama API.\n",
    "    \n",
    "    Returns:\n",
    "        list: A list of protocol data in JSON format.\n",
    "    \"\"\"\n",
    "    url = \"https://api.llama.fi/protocols\"\n",
    "    try:\n",
    "        response = requests.get(url)\n",
    "        response.raise_for_status()\n",
    "        protocols = response.json()\n",
    "        return protocols\n",
    "    except requests.exceptions.HTTPError as errh:\n",
    "        print(f\"HTTP Error: {errh}\")\n",
    "    except requests.exceptions.RequestException as err:\n",
    "        print(f\"Error: {err}\")\n",
    "    return []\n",
    "\n",
    "def filter_ethereum_protocols(protocols):\n",
    "    \"\"\"\n",
    "    Filters protocols to include only those operating on Ethereum Layer 1.\n",
    "    \n",
    "    Args:\n",
    "        protocols (list): The list of all protocols fetched from DeFiLlama.\n",
    "    \n",
    "    Returns:\n",
    "        pd.DataFrame: A DataFrame containing Ethereum protocols with relevant data.\n",
    "    \"\"\"\n",
    "    data = []\n",
    "    for protocol in protocols:\n",
    "        if 'Ethereum' in protocol.get('chains', []):\n",
    "            data.append({\n",
    "                'name': protocol.get('name', ''),\n",
    "                'symbol': protocol.get('symbol', ''),\n",
    "                'category': protocol.get('category', ''),\n",
    "                'tvl': protocol.get('tvl', 0),\n",
    "                'chainTvls': protocol.get('chainTvls', {}).get('Ethereum', 0),\n",
    "                'address': protocol.get('address', ''),\n",
    "                'url': protocol.get('url', ''),\n",
    "                'slug': protocol.get('slug', '')\n",
    "            })\n",
    "    df = pd.DataFrame(data)\n",
    "    return df\n",
    "\n",
    "def clean_protocols_data(df):\n",
    "    \"\"\"\n",
    "    Cleans and preprocesses the protocols DataFrame.\n",
    "    \n",
    "    Args:\n",
    "        df (pd.DataFrame): The DataFrame containing raw protocol data.\n",
    "    \n",
    "    Returns:\n",
    "        pd.DataFrame: The cleaned and processed DataFrame.\n",
    "    \"\"\"\n",
    "    # Convert TVL to numeric and fill missing values\n",
    "    df['tvl'] = pd.to_numeric(df['tvl'], errors='coerce').fillna(0)\n",
    "    df['chainTvls'] = pd.to_numeric(df['chainTvls'], errors='coerce').fillna(0)\n",
    "    \n",
    "    # Handle missing categories\n",
    "    df['category'] = df['category'].fillna('Unknown')\n",
    "    \n",
    "    # Ensure addresses are in a consistent format\n",
    "    df['address'] = df['address'].apply(lambda x: x if isinstance(x, str) else '')\n",
    "    \n",
    "    return df\n"
   ]
  },
  {
   "cell_type": "markdown",
   "metadata": {},
   "source": [
    "Etherscan"
   ]
  },
  {
   "cell_type": "code",
   "execution_count": 5,
   "metadata": {},
   "outputs": [],
   "source": [
    "def get_contract_source_code(address, api_key):\n",
    "    \"\"\"\n",
    "    Fetches the contract source code and metadata from Etherscan API.\n",
    "    \n",
    "    Args:\n",
    "        address (str): The contract address.\n",
    "        api_key (str): Your Etherscan API key.\n",
    "    \n",
    "    Returns:\n",
    "        dict: A dictionary containing the contract source code and metadata.\n",
    "    \"\"\"\n",
    "    url = 'https://api.etherscan.io/api'\n",
    "    params = {\n",
    "        'module': 'contract',\n",
    "        'action': 'getsourcecode',\n",
    "        'address': address,\n",
    "        'apikey': api_key\n",
    "    }\n",
    "    try:\n",
    "        response = requests.get(url, params=params)\n",
    "        response.raise_for_status()\n",
    "        result = response.json()\n",
    "        if result['status'] == '1':\n",
    "            return result['result'][0]  # Return the first (and usually only) result\n",
    "        else:\n",
    "            print(f\"Error fetching contract at {address}: {result['message']}\")\n",
    "            return None\n",
    "    except requests.exceptions.HTTPError as errh:\n",
    "        print(f\"HTTP Error: {errh}\")\n",
    "    except requests.exceptions.RequestException as err:\n",
    "        print(f\"Error: {err}\")\n",
    "    return None\n",
    "\n",
    "def extract_language(contract_info):\n",
    "    \"\"\"\n",
    "    Determines the programming language used in the smart contract.\n",
    "    \n",
    "    Args:\n",
    "        contract_info (dict): The contract information dictionary from Etherscan.\n",
    "    \n",
    "    Returns:\n",
    "        str: The programming language ('Solidity', 'Vyper', 'Yul', 'Fe', 'Others', or 'Unknown').\n",
    "    \"\"\"\n",
    "    compiler_version = contract_info.get('CompilerVersion', '')\n",
    "    source_code = contract_info.get('SourceCode', '')\n",
    "    \n",
    "    # Check for Solidity\n",
    "    if re.match(r'v\\d+\\.\\d+\\.\\d+\\+commit\\.[\\da-fA-F]{8}', compiler_version):\n",
    "        return 'Solidity'\n",
    "    # Check for Vyper\n",
    "    elif 'vyper' in compiler_version.lower():\n",
    "        return 'Vyper'\n",
    "    # Check for Yul\n",
    "    elif 'yul' in compiler_version.lower():\n",
    "        return 'Yul'\n",
    "    # Check for Fe\n",
    "    elif 'fe' in compiler_version.lower():\n",
    "        return 'Fe'\n",
    "    else:\n",
    "        # Try to infer from the source code\n",
    "        source_code_lower = source_code.lower()\n",
    "        if 'pragma solidity' in source_code_lower:\n",
    "            return 'Solidity'\n",
    "        elif 'pragma vyper' in source_code_lower:\n",
    "            return 'Vyper'\n",
    "        elif 'object \"yul\"' in source_code_lower:\n",
    "            return 'Yul'\n",
    "        elif 'pragma fe' in source_code_lower:\n",
    "            return 'Fe'\n",
    "        else:\n",
    "            return 'Unknown'\n",
    "\n",
    "def rate_limit_request(counter, max_requests=5, interval=1):\n",
    "    \"\"\"\n",
    "    Implements a simple rate limiter to avoid exceeding API rate limits.\n",
    "    \n",
    "    Args:\n",
    "        counter (int): The current request count.\n",
    "        max_requests (int): Maximum number of requests allowed in the interval.\n",
    "        interval (int): Time interval in seconds.\n",
    "    \"\"\"\n",
    "    if counter % max_requests == 0 and counter != 0:\n",
    "        print(\"Rate limit reached. Sleeping for a moment...\")\n",
    "        time.sleep(interval)\n",
    "\n",
    "def is_contract_verified(contract_info):\n",
    "    \"\"\"\n",
    "    Checks if the contract is verified on Etherscan.\n",
    "    \n",
    "    Args:\n",
    "        contract_info (dict): The contract information dictionary from Etherscan.\n",
    "    \n",
    "    Returns:\n",
    "        bool: True if the contract is verified, False otherwise.\n",
    "    \"\"\"\n",
    "    return contract_info.get('ABI', '') != 'Contract source code not verified'\n"
   ]
  },
  {
   "cell_type": "markdown",
   "metadata": {},
   "source": [
    "Visualization"
   ]
  },
  {
   "cell_type": "code",
   "execution_count": 6,
   "metadata": {},
   "outputs": [],
   "source": [
    "def filter_contracts_by_address_condition(df, condition_func):\n",
    "    \"\"\"\n",
    "    Filters the contracts based on a condition applied to the 'address' column.\n",
    "\n",
    "    Args:\n",
    "        df (pd.DataFrame): The DataFrame containing contract data.\n",
    "        condition_func (function): A function that takes an address and returns True if the row should be kept.\n",
    "\n",
    "    Returns:\n",
    "        pd.DataFrame: The filtered DataFrame.\n",
    "    \"\"\"\n",
    "    filtered_df = df[df['address'].apply(condition_func)]\n",
    "    return filtered_df\n",
    "\n",
    "def plot_tvl_by_language(df):\n",
    "    \"\"\"\n",
    "    Plots the distribution of TVL by smart contract language.\n",
    "\n",
    "    Args:\n",
    "        df (pd.DataFrame): The DataFrame containing contract data with 'Language' and 'tvl' columns.\n",
    "    \"\"\"\n",
    "    # Aggregate TVL by Language\n",
    "    language_tvl = df.groupby('Language')['tvl'].sum().reset_index()\n",
    "    language_tvl = language_tvl.sort_values(by='tvl', ascending=False)\n",
    "\n",
    "    # Create bar chart\n",
    "    plt.figure(figsize=(10, 6))\n",
    "    sns.barplot(x='Language', y='tvl', data=language_tvl, palette='viridis')\n",
    "\n",
    "    plt.title('TVL by Smart Contract Language')\n",
    "    plt.xlabel('Smart Contract Language')\n",
    "    plt.ylabel('Total Value Locked (USD)')\n",
    "    plt.xticks(rotation=45)\n",
    "    # Show y-axis in billions\n",
    "    plt.gca().yaxis.set_major_formatter(plt.matplotlib.ticker.FuncFormatter(lambda x, _: f'{x / 1e9:.0f}B'))\n",
    "    plt.tight_layout()\n",
    "    plt.show()"
   ]
  },
  {
   "cell_type": "markdown",
   "metadata": {},
   "source": [
    "---\n",
    "\n",
    "### Fetch DefiLlama data"
   ]
  },
  {
   "cell_type": "code",
   "execution_count": 7,
   "metadata": {},
   "outputs": [
    {
     "data": {
      "text/html": [
       "<div>\n",
       "<style scoped>\n",
       "    .dataframe tbody tr th:only-of-type {\n",
       "        vertical-align: middle;\n",
       "    }\n",
       "\n",
       "    .dataframe tbody tr th {\n",
       "        vertical-align: top;\n",
       "    }\n",
       "\n",
       "    .dataframe thead th {\n",
       "        text-align: right;\n",
       "    }\n",
       "</style>\n",
       "<table border=\"1\" class=\"dataframe\">\n",
       "  <thead>\n",
       "    <tr style=\"text-align: right;\">\n",
       "      <th></th>\n",
       "      <th>name</th>\n",
       "      <th>symbol</th>\n",
       "      <th>category</th>\n",
       "      <th>tvl</th>\n",
       "      <th>chainTvls</th>\n",
       "      <th>address</th>\n",
       "      <th>url</th>\n",
       "      <th>slug</th>\n",
       "    </tr>\n",
       "  </thead>\n",
       "  <tbody>\n",
       "    <tr>\n",
       "      <th>0</th>\n",
       "      <td>Binance CEX</td>\n",
       "      <td>-</td>\n",
       "      <td>CEX</td>\n",
       "      <td>1.577892e+11</td>\n",
       "      <td>4.864799e+10</td>\n",
       "      <td></td>\n",
       "      <td>https://www.binance.com</td>\n",
       "      <td>binance-cex</td>\n",
       "    </tr>\n",
       "    <tr>\n",
       "      <th>1</th>\n",
       "      <td>Lido</td>\n",
       "      <td>LDO</td>\n",
       "      <td>Liquid Staking</td>\n",
       "      <td>3.671661e+10</td>\n",
       "      <td>3.669675e+10</td>\n",
       "      <td>0x5a98fcbea516cf06857215779fd812ca3bef1b32</td>\n",
       "      <td>https://lido.fi/</td>\n",
       "      <td>lido</td>\n",
       "    </tr>\n",
       "    <tr>\n",
       "      <th>2</th>\n",
       "      <td>Bitfinex</td>\n",
       "      <td>-</td>\n",
       "      <td>CEX</td>\n",
       "      <td>2.791389e+10</td>\n",
       "      <td>9.350308e+09</td>\n",
       "      <td></td>\n",
       "      <td>https://www.bitfinex.com</td>\n",
       "      <td>bitfinex</td>\n",
       "    </tr>\n",
       "    <tr>\n",
       "      <th>3</th>\n",
       "      <td>OKX</td>\n",
       "      <td>-</td>\n",
       "      <td>CEX</td>\n",
       "      <td>2.781150e+10</td>\n",
       "      <td>1.248691e+10</td>\n",
       "      <td></td>\n",
       "      <td>https://www.okx.com</td>\n",
       "      <td>okx</td>\n",
       "    </tr>\n",
       "    <tr>\n",
       "      <th>4</th>\n",
       "      <td>Robinhood</td>\n",
       "      <td>-</td>\n",
       "      <td>CEX</td>\n",
       "      <td>2.104276e+10</td>\n",
       "      <td>6.859130e+09</td>\n",
       "      <td></td>\n",
       "      <td>https://robinhood.com</td>\n",
       "      <td>robinhood</td>\n",
       "    </tr>\n",
       "  </tbody>\n",
       "</table>\n",
       "</div>"
      ],
      "text/plain": [
       "          name symbol        category           tvl     chainTvls  \\\n",
       "0  Binance CEX      -             CEX  1.577892e+11  4.864799e+10   \n",
       "1         Lido    LDO  Liquid Staking  3.671661e+10  3.669675e+10   \n",
       "2     Bitfinex      -             CEX  2.791389e+10  9.350308e+09   \n",
       "3          OKX      -             CEX  2.781150e+10  1.248691e+10   \n",
       "4    Robinhood      -             CEX  2.104276e+10  6.859130e+09   \n",
       "\n",
       "                                      address                       url  \\\n",
       "0                                               https://www.binance.com   \n",
       "1  0x5a98fcbea516cf06857215779fd812ca3bef1b32          https://lido.fi/   \n",
       "2                                              https://www.bitfinex.com   \n",
       "3                                                   https://www.okx.com   \n",
       "4                                                 https://robinhood.com   \n",
       "\n",
       "          slug  \n",
       "0  binance-cex  \n",
       "1         lido  \n",
       "2     bitfinex  \n",
       "3          okx  \n",
       "4    robinhood  "
      ]
     },
     "execution_count": 7,
     "metadata": {},
     "output_type": "execute_result"
    }
   ],
   "source": [
    "# Fetch all protocols from DeFiLlama\n",
    "protocols = fetch_defillama_protocols()\n",
    "\n",
    "# Filter for Ethereum Layer 1 protocols\n",
    "df_protocols = filter_ethereum_protocols(protocols)\n",
    "\n",
    "# Clean and preprocess the data\n",
    "df_protocols = clean_protocols_data(df_protocols)\n",
    "\n",
    "# Display the first few rows of the DataFrame\n",
    "df_protocols.head()"
   ]
  },
  {
   "cell_type": "markdown",
   "metadata": {},
   "source": [
    "---\n",
    "\n",
    "### Replace with your Etherscan API key"
   ]
  },
  {
   "cell_type": "code",
   "execution_count": 8,
   "metadata": {},
   "outputs": [],
   "source": [
    "# Replace with your actual Etherscan API key\n",
    "ETHERSCAN_API_KEY = ''"
   ]
  },
  {
   "cell_type": "markdown",
   "metadata": {},
   "source": [
    "---\n",
    "\n",
    "### Fetch Etherscan data"
   ]
  },
  {
   "cell_type": "code",
   "execution_count": null,
   "metadata": {},
   "outputs": [
    {
     "name": "stdout",
     "output_type": "stream",
     "text": [
      "Error fetching contract at 0x5a98fcbea516cf06857215779fd812ca3bef1b32: NOTOK\n",
      "Error fetching contract at 0x7fc66500c84a76ad7e9c93437bfc5ac33e2ddae9: NOTOK\n",
      "Error fetching contract at 0x912ce59144191c1204e64559fe8253a0e49e6548: NOTOK\n",
      "Error fetching contract at 0xfe0c30065b384f05761f15d0cc899d4f9f9cc0eb: NOTOK\n",
      "Error fetching contract at 0x9f8f72aa9304c8b593d555f12ef6589cc3a579a2: NOTOK\n",
      "Rate limit reached. Sleeping for a moment...\n",
      "Error fetching contract at 0x57e114b691db790c35207b2e685d4a43181e6061: NOTOK\n",
      "Error fetching contract at 85VBFQZC9TZkfaptBWjvUw7YbZjy52A6mjtPGjstQAmQ: NOTOK\n",
      "Error fetching contract at 0x4200000000000000000000000000000000000042: NOTOK\n",
      "Error fetching contract at 0x808507121b80c02388fad14726482e061b8da827: NOTOK\n",
      "Error fetching contract at 0x1f9840a85d5af5bf1d1762f925bdaddc4201f984: NOTOK\n",
      "Rate limit reached. Sleeping for a moment...\n",
      "Error fetching contract at 0xd33526068d116ce69f19a9ee46f0bd304f21a51f: NOTOK\n",
      "Error fetching contract at 0x1f9840a85d5af5bf1d1762f925bdaddc4201f984: NOTOK\n",
      "Error fetching contract at 0x9994e35db50125e0df82e4c2dde62496ce330999: NOTOK\n",
      "Error fetching contract at 0xc00e94cb662c3520282e6f5717214004a7f26888: NOTOK\n",
      "Error fetching contract at 0xcf6bb5389c92bdda8a3747ddb454cb7a64626c63: NOTOK\n",
      "Rate limit reached. Sleeping for a moment...\n",
      "Error fetching contract at 0xD533a949740bb3306d119CC777fa900bA034cd52: NOTOK\n",
      "Error fetching contract at 0x3b50805453023a91a8bf641e279401a0b23fa6f9: NOTOK\n",
      "Error fetching contract at 0x0E09FaBB73Bd3Ade0a17ECC321fD13a19e81cE82: NOTOK\n",
      "Error fetching contract at 0x256f2d67e52fe834726d2ddcd8413654f5eb8b53: NOTOK\n",
      "Error fetching contract at 0x4e3fbd56cd56c3e72c1403e103b45db9da5b9d2b: NOTOK\n",
      "Rate limit reached. Sleeping for a moment...\n",
      "Error fetching contract at 0xfe0c30065b384f05761f15d0cc899d4f9f9cc0eb: NOTOK\n",
      "Error fetching contract at 0xba100000625a3754423978a60c9317c58a424e3d: NOTOK\n"
     ]
    }
   ],
   "source": [
    "# Filter protocols with available contract addresses\n",
    "df_contracts = df_protocols[df_protocols['address'].str.len() > 0].copy()\n",
    "df_contracts.reset_index(drop=True, inplace=True)\n",
    "\n",
    "# Initialize lists to store the results\n",
    "languages = []\n",
    "verified_status = []\n",
    "errors = []\n",
    "\n",
    "# Counter for rate limiting\n",
    "request_counter = 0\n",
    "\n",
    "# Iterate over the contract addresses\n",
    "for idx, row in df_contracts.iterrows():\n",
    "    address = row['address']\n",
    "    # Etherscan API expects addresses in checksum format; ensure address is properly formatted\n",
    "    address = address.strip()\n",
    "\n",
    "    # Remove leading chain name like 'arbitrum:' if present\n",
    "    address = address.split(':')[-1]\n",
    "    \n",
    "    # Fetch contract info from Etherscan\n",
    "    contract_info = get_contract_source_code(address, ETHERSCAN_API_KEY)\n",
    "    \n",
    "    # Increment the request counter and apply rate limiting\n",
    "    request_counter += 1\n",
    "    rate_limit_request(request_counter, max_requests=5, interval=1)  # Adjust based on Etherscan's rate limits\n",
    "    \n",
    "    if contract_info:\n",
    "        # Check if the contract is verified\n",
    "        if is_contract_verified(contract_info):\n",
    "            language = extract_language(contract_info)\n",
    "            languages.append(language)\n",
    "            verified_status.append('Verified')\n",
    "            errors.append('')\n",
    "        else:\n",
    "            languages.append('Unknown')\n",
    "            verified_status.append('Not Verified')\n",
    "            errors.append('')\n",
    "    else:\n",
    "        languages.append('Unknown')\n",
    "        verified_status.append('Error')\n",
    "        errors.append(f\"Failed to fetch data for address {address}\")\n",
    "        \n",
    "# Add the results to the DataFrame\n",
    "df_contracts['Language'] = languages\n",
    "df_contracts['Verified'] = verified_status\n",
    "df_contracts['Error'] = errors\n",
    "\n",
    "# Display the updated DataFrame\n",
    "df_contracts.head()\n"
   ]
  },
  {
   "cell_type": "markdown",
   "metadata": {},
   "source": [
    "---\n",
    "\n",
    "### Coverage\n",
    "\n",
    "Proportion of TVL covered"
   ]
  },
  {
   "cell_type": "code",
   "execution_count": null,
   "metadata": {},
   "outputs": [],
   "source": [
    "# Magic store the variables\n",
    "# %store df_protocols\n",
    "# %store df_contracts"
   ]
  },
  {
   "cell_type": "code",
   "execution_count": null,
   "metadata": {},
   "outputs": [
    {
     "data": {
      "text/plain": [
       "0.8958820355586942"
      ]
     },
     "execution_count": 23,
     "metadata": {},
     "output_type": "execute_result"
    }
   ],
   "source": [
    "# total TVL with detected languages / Total TVL\n",
    "total_tvl = df_contracts['tvl'].sum()\n",
    "total_tvl_detected = df_contracts[df_contracts['Language'] != 'Unknown']['tvl'].sum()\n",
    "float(total_tvl_detected / total_tvl)"
   ]
  },
  {
   "cell_type": "markdown",
   "metadata": {},
   "source": [
    "List of detected languages on L1"
   ]
  },
  {
   "cell_type": "code",
   "execution_count": null,
   "metadata": {},
   "outputs": [
    {
     "data": {
      "text/plain": [
       "array(['Solidity', 'Unknown', 'Vyper'], dtype=object)"
      ]
     },
     "execution_count": 24,
     "metadata": {},
     "output_type": "execute_result"
    }
   ],
   "source": [
    "# List unique languages detected\n",
    "df_contracts['Language'].unique()"
   ]
  },
  {
   "cell_type": "markdown",
   "metadata": {},
   "source": [
    "Undetected language contracts"
   ]
  },
  {
   "cell_type": "code",
   "execution_count": null,
   "metadata": {},
   "outputs": [
    {
     "data": {
      "text/html": [
       "<div>\n",
       "<style scoped>\n",
       "    .dataframe tbody tr th:only-of-type {\n",
       "        vertical-align: middle;\n",
       "    }\n",
       "\n",
       "    .dataframe tbody tr th {\n",
       "        vertical-align: top;\n",
       "    }\n",
       "\n",
       "    .dataframe thead th {\n",
       "        text-align: right;\n",
       "    }\n",
       "</style>\n",
       "<table border=\"1\" class=\"dataframe\">\n",
       "  <thead>\n",
       "    <tr style=\"text-align: right;\">\n",
       "      <th></th>\n",
       "      <th>name</th>\n",
       "      <th>address</th>\n",
       "      <th>Language</th>\n",
       "      <th>Verified</th>\n",
       "      <th>Error</th>\n",
       "    </tr>\n",
       "  </thead>\n",
       "  <tbody>\n",
       "    <tr>\n",
       "      <th>5</th>\n",
       "      <td>Optimism Bridge</td>\n",
       "      <td>optimism:0x42000000000000000000000000000000000...</td>\n",
       "      <td>Unknown</td>\n",
       "      <td>Not Verified</td>\n",
       "      <td></td>\n",
       "    </tr>\n",
       "    <tr>\n",
       "      <th>6</th>\n",
       "      <td>Portal</td>\n",
       "      <td>solana:85VBFQZC9TZkfaptBWjvUw7YbZjy52A6mjtPGjs...</td>\n",
       "      <td>Unknown</td>\n",
       "      <td>Error</td>\n",
       "      <td>Failed to fetch data for address 85VBFQZC9TZkf...</td>\n",
       "    </tr>\n",
       "    <tr>\n",
       "      <th>14</th>\n",
       "      <td>Venus Core Pool</td>\n",
       "      <td>bsc:0xcf6bb5389c92bdda8a3747ddb454cb7a64626c63</td>\n",
       "      <td>Unknown</td>\n",
       "      <td>Not Verified</td>\n",
       "      <td></td>\n",
       "    </tr>\n",
       "    <tr>\n",
       "      <th>18</th>\n",
       "      <td>PancakeSwap AMM</td>\n",
       "      <td>bsc:0x0E09FaBB73Bd3Ade0a17ECC321fD13a19e81cE82</td>\n",
       "      <td>Unknown</td>\n",
       "      <td>Not Verified</td>\n",
       "      <td></td>\n",
       "    </tr>\n",
       "    <tr>\n",
       "      <th>36</th>\n",
       "      <td>PancakeSwap AMM V3</td>\n",
       "      <td>bsc:0x0E09FaBB73Bd3Ade0a17ECC321fD13a19e81cE82</td>\n",
       "      <td>Unknown</td>\n",
       "      <td>Not Verified</td>\n",
       "      <td></td>\n",
       "    </tr>\n",
       "  </tbody>\n",
       "</table>\n",
       "</div>"
      ],
      "text/plain": [
       "                  name                                            address  \\\n",
       "5      Optimism Bridge  optimism:0x42000000000000000000000000000000000...   \n",
       "6               Portal  solana:85VBFQZC9TZkfaptBWjvUw7YbZjy52A6mjtPGjs...   \n",
       "14     Venus Core Pool     bsc:0xcf6bb5389c92bdda8a3747ddb454cb7a64626c63   \n",
       "18     PancakeSwap AMM     bsc:0x0E09FaBB73Bd3Ade0a17ECC321fD13a19e81cE82   \n",
       "36  PancakeSwap AMM V3     bsc:0x0E09FaBB73Bd3Ade0a17ECC321fD13a19e81cE82   \n",
       "\n",
       "   Language      Verified                                              Error  \n",
       "5   Unknown  Not Verified                                                     \n",
       "6   Unknown         Error  Failed to fetch data for address 85VBFQZC9TZkf...  \n",
       "14  Unknown  Not Verified                                                     \n",
       "18  Unknown  Not Verified                                                     \n",
       "36  Unknown  Not Verified                                                     "
      ]
     },
     "execution_count": 25,
     "metadata": {},
     "output_type": "execute_result"
    }
   ],
   "source": [
    "# Display contracts with unknown languages or errors\n",
    "df_unknown = df_contracts[(df_contracts['Language'] == 'Unknown') | (df_contracts['Verified'] != 'Verified')]\n",
    "df_unknown[['name', 'address', 'Language', 'Verified', 'Error']].head()"
   ]
  },
  {
   "cell_type": "markdown",
   "metadata": {},
   "source": [
    "---\n",
    "\n",
    "### Distribution of Langauges by TVL"
   ]
  },
  {
   "cell_type": "code",
   "execution_count": null,
   "metadata": {},
   "outputs": [
    {
     "data": {
      "image/png": "[encoded data removed]",
      "text/plain": [
       "<Figure size 1000x600 with 1 Axes>"
      ]
     },
     "metadata": {},
     "output_type": "display_data"
    }
   ],
   "source": [
    "# Plot TVL by Language using the unfiltered DataFrame\n",
    "plot_tvl_by_language(df_contracts)"
   ]
  },
  {
   "cell_type": "code",
   "execution_count": null,
   "metadata": {},
   "outputs": [],
   "source": [
    "# Write the data to a CSV file\n",
    "df_contracts.to_csv('ethereum_contracts.csv', index=False)"
   ]
  }
 ],
 "metadata": {
  "kernelspec": {
   "display_name": "Python 3",
   "language": "python",
   "name": "python3"
  },
  "language_info": {
   "codemirror_mode": {
    "name": "ipython",
    "version": 3
   },
   "file_extension": ".py",
   "mimetype": "text/x-python",
   "name": "python",
   "nbconvert_exporter": "python",
   "pygments_lexer": "ipython3",
   "version": "3.11.10"
  }
 },
 "nbformat": 4,
 "nbformat_minor": 2
}
